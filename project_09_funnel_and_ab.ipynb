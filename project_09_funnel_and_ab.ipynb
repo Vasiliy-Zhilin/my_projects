{
 "cells": [
  {
   "cell_type": "markdown",
   "metadata": {},
   "source": [
    "**Легенда**\n",
    "\n",
    "Вы работаете в стартапе, который продаёт продукты питания. Нужно разобраться, как ведут себя пользователи вашего мобильного приложения.\n",
    "\n",
    "Цели проекта: \n",
    "* изучить воронку продаж,\n",
    "* выяснить, какой шрифт лучше по результатам A/B-теста."
   ]
  },
  {
   "cell_type": "markdown",
   "metadata": {},
   "source": [
    "## Шаг 1. Откройте файл с данными и изучите общую информацию"
   ]
  },
  {
   "cell_type": "code",
   "execution_count": 1,
   "metadata": {},
   "outputs": [],
   "source": [
    "import pandas as pd\n",
    "import datetime as dt\n",
    "import numpy as np\n",
    "import matplotlib.pyplot as plt\n",
    "import scipy.stats as st\n",
    "import math as mth\n",
    "import seaborn as sns"
   ]
  },
  {
   "cell_type": "code",
   "execution_count": 2,
   "metadata": {},
   "outputs": [
    {
     "data": {
      "text/html": [
       "<div>\n",
       "<style scoped>\n",
       "    .dataframe tbody tr th:only-of-type {\n",
       "        vertical-align: middle;\n",
       "    }\n",
       "\n",
       "    .dataframe tbody tr th {\n",
       "        vertical-align: top;\n",
       "    }\n",
       "\n",
       "    .dataframe thead th {\n",
       "        text-align: right;\n",
       "    }\n",
       "</style>\n",
       "<table border=\"1\" class=\"dataframe\">\n",
       "  <thead>\n",
       "    <tr style=\"text-align: right;\">\n",
       "      <th></th>\n",
       "      <th>EventName</th>\n",
       "      <th>DeviceIDHash</th>\n",
       "      <th>EventTimestamp</th>\n",
       "      <th>ExpId</th>\n",
       "    </tr>\n",
       "  </thead>\n",
       "  <tbody>\n",
       "    <tr>\n",
       "      <td>218836</td>\n",
       "      <td>MainScreenAppear</td>\n",
       "      <td>3524803751765120333</td>\n",
       "      <td>1565163346</td>\n",
       "      <td>248</td>\n",
       "    </tr>\n",
       "    <tr>\n",
       "      <td>176940</td>\n",
       "      <td>MainScreenAppear</td>\n",
       "      <td>6567204119970586330</td>\n",
       "      <td>1565046168</td>\n",
       "      <td>246</td>\n",
       "    </tr>\n",
       "    <tr>\n",
       "      <td>130371</td>\n",
       "      <td>CartScreenAppear</td>\n",
       "      <td>6932517045703054087</td>\n",
       "      <td>1564932872</td>\n",
       "      <td>248</td>\n",
       "    </tr>\n",
       "    <tr>\n",
       "      <td>105343</td>\n",
       "      <td>PaymentScreenSuccessful</td>\n",
       "      <td>5892436657040909299</td>\n",
       "      <td>1564859612</td>\n",
       "      <td>247</td>\n",
       "    </tr>\n",
       "    <tr>\n",
       "      <td>53279</td>\n",
       "      <td>MainScreenAppear</td>\n",
       "      <td>4527484608661947777</td>\n",
       "      <td>1564743914</td>\n",
       "      <td>246</td>\n",
       "    </tr>\n",
       "  </tbody>\n",
       "</table>\n",
       "</div>"
      ],
      "text/plain": [
       "                      EventName         DeviceIDHash  EventTimestamp  ExpId\n",
       "218836         MainScreenAppear  3524803751765120333      1565163346    248\n",
       "176940         MainScreenAppear  6567204119970586330      1565046168    246\n",
       "130371         CartScreenAppear  6932517045703054087      1564932872    248\n",
       "105343  PaymentScreenSuccessful  5892436657040909299      1564859612    247\n",
       "53279          MainScreenAppear  4527484608661947777      1564743914    246"
      ]
     },
     "execution_count": 2,
     "metadata": {},
     "output_type": "execute_result"
    }
   ],
   "source": [
    "df = pd.read_csv('/datasets/logs_exp.csv', sep='\\t')\n",
    "df.sample(5)"
   ]
  },
  {
   "cell_type": "markdown",
   "metadata": {},
   "source": [
    "## Шаг 2. Подготовьте данные"
   ]
  },
  {
   "cell_type": "markdown",
   "metadata": {},
   "source": [
    "**Замените названия столбцов на удобные для вас**"
   ]
  },
  {
   "cell_type": "code",
   "execution_count": 3,
   "metadata": {},
   "outputs": [
    {
     "data": {
      "text/html": [
       "<div>\n",
       "<style scoped>\n",
       "    .dataframe tbody tr th:only-of-type {\n",
       "        vertical-align: middle;\n",
       "    }\n",
       "\n",
       "    .dataframe tbody tr th {\n",
       "        vertical-align: top;\n",
       "    }\n",
       "\n",
       "    .dataframe thead th {\n",
       "        text-align: right;\n",
       "    }\n",
       "</style>\n",
       "<table border=\"1\" class=\"dataframe\">\n",
       "  <thead>\n",
       "    <tr style=\"text-align: right;\">\n",
       "      <th></th>\n",
       "      <th>event</th>\n",
       "      <th>user_id</th>\n",
       "      <th>datetime</th>\n",
       "      <th>group</th>\n",
       "    </tr>\n",
       "  </thead>\n",
       "  <tbody>\n",
       "    <tr>\n",
       "      <td>113731</td>\n",
       "      <td>PaymentScreenSuccessful</td>\n",
       "      <td>2045616237532505490</td>\n",
       "      <td>1564905629</td>\n",
       "      <td>248</td>\n",
       "    </tr>\n",
       "    <tr>\n",
       "      <td>229963</td>\n",
       "      <td>MainScreenAppear</td>\n",
       "      <td>5274212389021166684</td>\n",
       "      <td>1565185498</td>\n",
       "      <td>248</td>\n",
       "    </tr>\n",
       "    <tr>\n",
       "      <td>186227</td>\n",
       "      <td>MainScreenAppear</td>\n",
       "      <td>4891111378981166101</td>\n",
       "      <td>1565081040</td>\n",
       "      <td>248</td>\n",
       "    </tr>\n",
       "  </tbody>\n",
       "</table>\n",
       "</div>"
      ],
      "text/plain": [
       "                          event              user_id    datetime  group\n",
       "113731  PaymentScreenSuccessful  2045616237532505490  1564905629    248\n",
       "229963         MainScreenAppear  5274212389021166684  1565185498    248\n",
       "186227         MainScreenAppear  4891111378981166101  1565081040    248"
      ]
     },
     "execution_count": 3,
     "metadata": {},
     "output_type": "execute_result"
    }
   ],
   "source": [
    "df.columns = ['event', 'user_id', 'datetime', 'group']\n",
    "df.sample(3)"
   ]
  },
  {
   "cell_type": "markdown",
   "metadata": {},
   "source": [
    "**Проверьте пропуски и типы данных. Откорректируйте, если нужно**"
   ]
  },
  {
   "cell_type": "code",
   "execution_count": 4,
   "metadata": {},
   "outputs": [
    {
     "name": "stdout",
     "output_type": "stream",
     "text": [
      "<class 'pandas.core.frame.DataFrame'>\n",
      "RangeIndex: 244126 entries, 0 to 244125\n",
      "Data columns (total 4 columns):\n",
      "event       244126 non-null object\n",
      "user_id     244126 non-null int64\n",
      "datetime    244126 non-null int64\n",
      "group       244126 non-null int64\n",
      "dtypes: int64(3), object(1)\n",
      "memory usage: 7.5+ MB\n"
     ]
    }
   ],
   "source": [
    "df.info()"
   ]
  },
  {
   "cell_type": "code",
   "execution_count": 5,
   "metadata": {},
   "outputs": [
    {
     "data": {
      "text/plain": [
       "413"
      ]
     },
     "execution_count": 5,
     "metadata": {},
     "output_type": "execute_result"
    }
   ],
   "source": [
    "df.duplicated().sum()"
   ]
  },
  {
   "cell_type": "code",
   "execution_count": 6,
   "metadata": {},
   "outputs": [],
   "source": [
    "df = df.drop_duplicates().reset_index(drop = True)"
   ]
  },
  {
   "cell_type": "markdown",
   "metadata": {},
   "source": [
    "**Добавьте столбец даты и времени, а также отдельный столбец дат**"
   ]
  },
  {
   "cell_type": "code",
   "execution_count": 7,
   "metadata": {},
   "outputs": [
    {
     "data": {
      "text/html": [
       "<div>\n",
       "<style scoped>\n",
       "    .dataframe tbody tr th:only-of-type {\n",
       "        vertical-align: middle;\n",
       "    }\n",
       "\n",
       "    .dataframe tbody tr th {\n",
       "        vertical-align: top;\n",
       "    }\n",
       "\n",
       "    .dataframe thead th {\n",
       "        text-align: right;\n",
       "    }\n",
       "</style>\n",
       "<table border=\"1\" class=\"dataframe\">\n",
       "  <thead>\n",
       "    <tr style=\"text-align: right;\">\n",
       "      <th></th>\n",
       "      <th>event</th>\n",
       "      <th>user_id</th>\n",
       "      <th>datetime</th>\n",
       "      <th>group</th>\n",
       "      <th>date</th>\n",
       "    </tr>\n",
       "  </thead>\n",
       "  <tbody>\n",
       "    <tr>\n",
       "      <td>35288</td>\n",
       "      <td>MainScreenAppear</td>\n",
       "      <td>1035766790164458922</td>\n",
       "      <td>2019-08-01 19:10:22</td>\n",
       "      <td>246</td>\n",
       "      <td>2019-08-01</td>\n",
       "    </tr>\n",
       "    <tr>\n",
       "      <td>154772</td>\n",
       "      <td>MainScreenAppear</td>\n",
       "      <td>6747593639652521330</td>\n",
       "      <td>2019-08-05 11:37:53</td>\n",
       "      <td>247</td>\n",
       "      <td>2019-08-05</td>\n",
       "    </tr>\n",
       "    <tr>\n",
       "      <td>109787</td>\n",
       "      <td>PaymentScreenSuccessful</td>\n",
       "      <td>197027893265565660</td>\n",
       "      <td>2019-08-04 05:18:59</td>\n",
       "      <td>246</td>\n",
       "      <td>2019-08-04</td>\n",
       "    </tr>\n",
       "  </tbody>\n",
       "</table>\n",
       "</div>"
      ],
      "text/plain": [
       "                          event              user_id            datetime  \\\n",
       "35288          MainScreenAppear  1035766790164458922 2019-08-01 19:10:22   \n",
       "154772         MainScreenAppear  6747593639652521330 2019-08-05 11:37:53   \n",
       "109787  PaymentScreenSuccessful   197027893265565660 2019-08-04 05:18:59   \n",
       "\n",
       "        group        date  \n",
       "35288     246  2019-08-01  \n",
       "154772    247  2019-08-05  \n",
       "109787    246  2019-08-04  "
      ]
     },
     "execution_count": 7,
     "metadata": {},
     "output_type": "execute_result"
    }
   ],
   "source": [
    "df['datetime']= pd.to_datetime(df['datetime'], unit = 's' )\n",
    "df['date'] = df['datetime'].dt.date\n",
    "df.sample(3)  "
   ]
  },
  {
   "cell_type": "markdown",
   "metadata": {},
   "source": [
    "## Шаг 3. Изучите и проверьте данные                     "
   ]
  },
  {
   "cell_type": "markdown",
   "metadata": {},
   "source": [
    "**Сколько всего событий в логе?**\n",
    "\n",
    "**Сколько всего пользователей в логе?**"
   ]
  },
  {
   "cell_type": "code",
   "execution_count": 8,
   "metadata": {},
   "outputs": [
    {
     "name": "stdout",
     "output_type": "stream",
     "text": [
      "Изначально в логе 243713 событий\n",
      "и 7551 пользователей\n"
     ]
    }
   ],
   "source": [
    "total_events_0 = df['event'].count()\n",
    "total_users_0 = df['user_id'].nunique()\n",
    "print ('Изначально в логе {} событий'.format(total_events_0))\n",
    "print ('и {} пользователей'.format(total_users_0))"
   ]
  },
  {
   "cell_type": "markdown",
   "metadata": {},
   "source": [
    "**Сколько в среднем событий приходится на пользователя?**"
   ]
  },
  {
   "cell_type": "code",
   "execution_count": 9,
   "metadata": {},
   "outputs": [
    {
     "data": {
      "text/plain": [
       "count    7551.000000\n",
       "mean       32.275593\n",
       "std        65.154219\n",
       "min         1.000000\n",
       "25%         9.000000\n",
       "50%        20.000000\n",
       "75%        37.000000\n",
       "max      2307.000000\n",
       "Name: event, dtype: float64"
      ]
     },
     "execution_count": 9,
     "metadata": {},
     "output_type": "execute_result"
    }
   ],
   "source": [
    "df_users = df.groupby('user_id').agg({'event': 'count'})\n",
    "df_users['event'].describe()"
   ]
  },
  {
   "cell_type": "code",
   "execution_count": 10,
   "metadata": {},
   "outputs": [
    {
     "data": {
      "text/plain": [
       "array([[<matplotlib.axes._subplots.AxesSubplot object at 0x7fcae1721be0>]],\n",
       "      dtype=object)"
      ]
     },
     "execution_count": 10,
     "metadata": {},
     "output_type": "execute_result"
    },
    {
     "data": {
      "image/png": "[encoded data removed]",
      "text/plain": [
       "<Figure size 432x288 with 1 Axes>"
      ]
     },
     "metadata": {
      "needs_background": "light"
     },
     "output_type": "display_data"
    }
   ],
   "source": [
    "df_users.hist(bins = 50)"
   ]
  },
  {
   "cell_type": "code",
   "execution_count": 11,
   "metadata": {},
   "outputs": [
    {
     "data": {
      "text/plain": [
       "array([[<matplotlib.axes._subplots.AxesSubplot object at 0x7fcae1721f28>]],\n",
       "      dtype=object)"
      ]
     },
     "execution_count": 11,
     "metadata": {},
     "output_type": "execute_result"
    },
    {
     "data": {
      "image/png": "[encoded data removed]",
      "text/plain": [
       "<Figure size 432x288 with 1 Axes>"
      ]
     },
     "metadata": {
      "needs_background": "light"
     },
     "output_type": "display_data"
    }
   ],
   "source": [
    "df_users[df_users['event'] <= 80].hist(bins = 40)"
   ]
  },
  {
   "cell_type": "code",
   "execution_count": 12,
   "metadata": {},
   "outputs": [
    {
     "data": {
      "text/plain": [
       "<matplotlib.axes._subplots.AxesSubplot at 0x7fcade6c0400>"
      ]
     },
     "execution_count": 12,
     "metadata": {},
     "output_type": "execute_result"
    },
    {
     "data": {
      "image/png": "[encoded data removed]",
      "text/plain": [
       "<Figure size 432x288 with 1 Axes>"
      ]
     },
     "metadata": {
      "needs_background": "light"
     },
     "output_type": "display_data"
    }
   ],
   "source": [
    "plt.ylim(0, 100)\n",
    "df_users['event'].to_frame().boxplot()"
   ]
  },
  {
   "cell_type": "markdown",
   "metadata": {},
   "source": [
    "Большое количество выбросов, присутствуют \"маньяки\", которые могут исказить данные, если окажутся в большинстве в одной из групп. Позже отсею таких пользователей из базы данных."
   ]
  },
  {
   "cell_type": "markdown",
   "metadata": {},
   "source": [
    "**Данными за какой период вы располагаете? Найдите максимальную и минимальную дату. Постройте гистограмму по дате и времени.**"
   ]
  },
  {
   "cell_type": "code",
   "execution_count": 13,
   "metadata": {},
   "outputs": [
    {
     "data": {
      "text/plain": [
       "count         243713\n",
       "unique            14\n",
       "top       2019-08-01\n",
       "freq           36141\n",
       "Name: date, dtype: object"
      ]
     },
     "execution_count": 13,
     "metadata": {},
     "output_type": "execute_result"
    }
   ],
   "source": [
    "df['date'].describe()"
   ]
  },
  {
   "cell_type": "code",
   "execution_count": 14,
   "metadata": {},
   "outputs": [
    {
     "data": {
      "text/plain": [
       "<matplotlib.axes._subplots.AxesSubplot at 0x7fcade6adc50>"
      ]
     },
     "execution_count": 14,
     "metadata": {},
     "output_type": "execute_result"
    },
    {
     "data": {
      "image/png": "[encoded data removed]",
      "text/plain": [
       "<Figure size 720x504 with 1 Axes>"
      ]
     },
     "metadata": {
      "needs_background": "light"
     },
     "output_type": "display_data"
    }
   ],
   "source": [
    "# подготовлю данные для графика. В задании просят гистограмму,\n",
    "# но тут будет информативнее столбчатая диаграмма по каждому дню с разбивкой по группам\n",
    "df_dates = df.groupby(['date','group']).agg({'event': 'count'}).reset_index()\n",
    "df_dates['date'] = pd.to_datetime(df_dates['date'])\n",
    "df_dates['day'] = df_dates['date'].map(lambda x: '0' + str(x.month) + '-' + ('0' if x.day < 10 else '') + str(x.day))\n",
    "df_dates = df_dates.rename(columns = {'event':'events_q-ty'})\n",
    "\n",
    "plt.figure(figsize=(10, 7))\n",
    "plt.title('Количество событий по дням и по группам')\n",
    "sns.barplot( x='day', y='events_q-ty', hue = 'group', data=df_dates, palette='Blues')"
   ]
  },
  {
   "cell_type": "markdown",
   "metadata": {},
   "source": [
    "**Можно ли быть уверенным, что у вас одинаково полные данные за весь период? Технически в логи новых дней по некоторым пользователям могут «доезжать» события из прошлого — это может «перекашивать данные». Определите, с какого момента данные полные и отбросьте более старые. Данными за какой период времени вы располагаете на самом деле?**"
   ]
  },
  {
   "cell_type": "markdown",
   "metadata": {},
   "source": [
    "Данные в июле в десятки раз ниже, чем в августе. Для дальнейшего анализа оставлю данные с первого августа."
   ]
  },
  {
   "cell_type": "code",
   "execution_count": 15,
   "metadata": {},
   "outputs": [],
   "source": [
    "df = df.drop(df[df['datetime'].dt.month == 7].index)"
   ]
  },
  {
   "cell_type": "markdown",
   "metadata": {},
   "source": [
    "Определю пользователей с количеством событий более 80 (из оставшихся в датафрейме) и удалю их из базы данных."
   ]
  },
  {
   "cell_type": "code",
   "execution_count": 16,
   "metadata": {},
   "outputs": [],
   "source": [
    "df_users = df.groupby('user_id').agg({'event': 'count'})\n",
    "df = df.drop(df[df['user_id'].isin(df_users[df_users['event'] > 80].index)].index)"
   ]
  },
  {
   "cell_type": "markdown",
   "metadata": {},
   "source": [
    "**Много ли событий и пользователей вы потеряли, отбросив старые данные?**"
   ]
  },
  {
   "cell_type": "code",
   "execution_count": 17,
   "metadata": {},
   "outputs": [
    {
     "name": "stdout",
     "output_type": "stream",
     "text": [
      "В датафрейме осталось 161607 событий из 243713 (66.3%)\n",
      "и 7059 пользователей из 7551 (93.5%)\n"
     ]
    }
   ],
   "source": [
    "total_events_1 = df['event'].count()\n",
    "total_users_1 = df['user_id'].nunique()\n",
    "print ('В датафрейме осталось {} событий из {} ({:.1%})'.format(total_events_1, total_events_0, \\\n",
    "                                                             total_events_1 / total_events_0))\n",
    "print ('и {} пользователей из {} ({:.1%})'.format(total_users_1, total_users_0, \\\n",
    "                                         total_users_1 / total_users_0))"
   ]
  },
  {
   "cell_type": "markdown",
   "metadata": {},
   "source": [
    "Отброшена небольшая часть пользователей, на которую приходилась треть всех событий. Продажи от этого не пострадают, а точность анализа только повысится."
   ]
  },
  {
   "cell_type": "markdown",
   "metadata": {},
   "source": [
    "**Проверьте, что у вас есть пользователи из всех трёх экспериментальных групп.**"
   ]
  },
  {
   "cell_type": "code",
   "execution_count": 18,
   "metadata": {},
   "outputs": [
    {
     "data": {
      "text/plain": [
       "248    54962\n",
       "246    53460\n",
       "247    53185\n",
       "Name: group, dtype: int64"
      ]
     },
     "execution_count": 18,
     "metadata": {},
     "output_type": "execute_result"
    }
   ],
   "source": [
    "df['group'].value_counts()"
   ]
  },
  {
   "cell_type": "markdown",
   "metadata": {},
   "source": [
    "## Шаг 4. Изучите воронку событий"
   ]
  },
  {
   "cell_type": "markdown",
   "metadata": {},
   "source": [
    "**Посмотрите, какие события есть в логах, как часто они встречаются. Отсортируйте события по частоте.**"
   ]
  },
  {
   "cell_type": "code",
   "execution_count": 19,
   "metadata": {},
   "outputs": [
    {
     "data": {
      "text/plain": [
       "MainScreenAppear           95092\n",
       "OffersScreenAppear         29918\n",
       "CartScreenAppear           20333\n",
       "PaymentScreenSuccessful    15351\n",
       "Tutorial                     913\n",
       "Name: event, dtype: int64"
      ]
     },
     "execution_count": 19,
     "metadata": {},
     "output_type": "execute_result"
    }
   ],
   "source": [
    "df['event'].value_counts()"
   ]
  },
  {
   "cell_type": "markdown",
   "metadata": {},
   "source": [
    "**Посчитайте, сколько пользователей совершали каждое из этих событий. Отсортируйте события по числу пользователей. Посчитайте долю пользователей, которые хоть раз совершали событие.**"
   ]
  },
  {
   "cell_type": "code",
   "execution_count": 20,
   "metadata": {},
   "outputs": [
    {
     "data": {
      "text/html": [
       "<div>\n",
       "<style scoped>\n",
       "    .dataframe tbody tr th:only-of-type {\n",
       "        vertical-align: middle;\n",
       "    }\n",
       "\n",
       "    .dataframe tbody tr th {\n",
       "        vertical-align: top;\n",
       "    }\n",
       "\n",
       "    .dataframe thead th {\n",
       "        text-align: right;\n",
       "    }\n",
       "</style>\n",
       "<table border=\"1\" class=\"dataframe\">\n",
       "  <thead>\n",
       "    <tr style=\"text-align: right;\">\n",
       "      <th></th>\n",
       "      <th>unique_users</th>\n",
       "      <th>total_conv_%</th>\n",
       "      <th>next_step_conv_%</th>\n",
       "    </tr>\n",
       "    <tr>\n",
       "      <th>event</th>\n",
       "      <th></th>\n",
       "      <th></th>\n",
       "      <th></th>\n",
       "    </tr>\n",
       "  </thead>\n",
       "  <tbody>\n",
       "    <tr>\n",
       "      <td>MainScreenAppear</td>\n",
       "      <td>6949</td>\n",
       "      <td>98.4</td>\n",
       "      <td>NaN</td>\n",
       "    </tr>\n",
       "    <tr>\n",
       "      <td>OffersScreenAppear</td>\n",
       "      <td>4138</td>\n",
       "      <td>58.6</td>\n",
       "      <td>59.5</td>\n",
       "    </tr>\n",
       "    <tr>\n",
       "      <td>CartScreenAppear</td>\n",
       "      <td>3293</td>\n",
       "      <td>46.6</td>\n",
       "      <td>79.6</td>\n",
       "    </tr>\n",
       "    <tr>\n",
       "      <td>PaymentScreenSuccessful</td>\n",
       "      <td>3106</td>\n",
       "      <td>44.0</td>\n",
       "      <td>94.3</td>\n",
       "    </tr>\n",
       "    <tr>\n",
       "      <td>Tutorial</td>\n",
       "      <td>762</td>\n",
       "      <td>10.8</td>\n",
       "      <td>24.5</td>\n",
       "    </tr>\n",
       "  </tbody>\n",
       "</table>\n",
       "</div>"
      ],
      "text/plain": [
       "                         unique_users  total_conv_%  next_step_conv_%\n",
       "event                                                                \n",
       "MainScreenAppear                 6949          98.4               NaN\n",
       "OffersScreenAppear               4138          58.6              59.5\n",
       "CartScreenAppear                 3293          46.6              79.6\n",
       "PaymentScreenSuccessful          3106          44.0              94.3\n",
       "Tutorial                          762          10.8              24.5"
      ]
     },
     "execution_count": 20,
     "metadata": {},
     "output_type": "execute_result"
    }
   ],
   "source": [
    "df_events = df.groupby('event').agg({'user_id': 'nunique'}).sort_values(by = 'user_id', ascending = False)\n",
    "df_events = df_events.rename(columns = {'user_id':'unique_users'})\n",
    "df_events ['total_conv_%'] = (df_events ['unique_users'] / df['user_id'].nunique() * 100).round(1)\n",
    "df_events['next_step_conv_%'] = (df_events['unique_users'].pct_change() * 100 + 100).round(1)\n",
    "df_events"
   ]
  },
  {
   "cell_type": "markdown",
   "metadata": {},
   "source": [
    "**Предположите, в каком порядке происходят события. Все ли они выстраиваются в последовательную цепочку? Их не нужно учитывать при расчёте воронки.**"
   ]
  },
  {
   "cell_type": "markdown",
   "metadata": {},
   "source": [
    "1) Выстраивается логичная последовательность [Главный экран -> Экран выбора продуктов -> Экран корзины -> Экран оплаты], из которой выпадает последний пункт - Руководство (*поэтому данные по конверсии в следующий шаг в табличке выше не имеют смысла*);\n",
    "\n",
    "2) Из таблички выше видно, что не все пользователи из базы данных прошли воронку с самого начала -> следует проверить последовательность этапов воронки по каждому пользователю."
   ]
  },
  {
   "cell_type": "markdown",
   "metadata": {},
   "source": [
    "**По воронке событий посчитайте, какая доля пользователей проходит на следующий шаг воронки (от числа пользователей на предыдущем). То есть для последовательности событий A → B → C, посчитайте отношение числа пользователей с событием B к количеству пользователей с событием A.**"
   ]
  },
  {
   "cell_type": "code",
   "execution_count": 21,
   "metadata": {},
   "outputs": [
    {
     "data": {
      "text/html": [
       "<div>\n",
       "<style scoped>\n",
       "    .dataframe tbody tr th:only-of-type {\n",
       "        vertical-align: middle;\n",
       "    }\n",
       "\n",
       "    .dataframe tbody tr th {\n",
       "        vertical-align: top;\n",
       "    }\n",
       "\n",
       "    .dataframe thead th {\n",
       "        text-align: right;\n",
       "    }\n",
       "</style>\n",
       "<table border=\"1\" class=\"dataframe\">\n",
       "  <thead>\n",
       "    <tr style=\"text-align: right;\">\n",
       "      <th>event</th>\n",
       "      <th>CartScreenAppear</th>\n",
       "      <th>MainScreenAppear</th>\n",
       "      <th>OffersScreenAppear</th>\n",
       "      <th>PaymentScreenSuccessful</th>\n",
       "      <th>Tutorial</th>\n",
       "    </tr>\n",
       "    <tr>\n",
       "      <th>user_id</th>\n",
       "      <th></th>\n",
       "      <th></th>\n",
       "      <th></th>\n",
       "      <th></th>\n",
       "      <th></th>\n",
       "    </tr>\n",
       "  </thead>\n",
       "  <tbody>\n",
       "    <tr>\n",
       "      <td>4630185254631774491</td>\n",
       "      <td>2019-08-03 18:37:26</td>\n",
       "      <td>2019-08-03 18:37:24</td>\n",
       "      <td>2019-08-03 18:37:30</td>\n",
       "      <td>2019-08-03 18:37:26</td>\n",
       "      <td>NaT</td>\n",
       "    </tr>\n",
       "    <tr>\n",
       "      <td>1797441276328469589</td>\n",
       "      <td>NaT</td>\n",
       "      <td>2019-08-03 09:05:58</td>\n",
       "      <td>NaT</td>\n",
       "      <td>NaT</td>\n",
       "      <td>NaT</td>\n",
       "    </tr>\n",
       "    <tr>\n",
       "      <td>5339257593707075412</td>\n",
       "      <td>2019-08-03 17:34:21</td>\n",
       "      <td>2019-08-03 17:30:59</td>\n",
       "      <td>2019-08-03 17:33:51</td>\n",
       "      <td>2019-08-05 04:54:56</td>\n",
       "      <td>NaT</td>\n",
       "    </tr>\n",
       "    <tr>\n",
       "      <td>7179732420350905289</td>\n",
       "      <td>2019-08-02 17:15:29</td>\n",
       "      <td>2019-08-01 09:48:06</td>\n",
       "      <td>2019-08-01 09:48:13</td>\n",
       "      <td>2019-08-02 17:15:29</td>\n",
       "      <td>NaT</td>\n",
       "    </tr>\n",
       "    <tr>\n",
       "      <td>1097963955552992526</td>\n",
       "      <td>NaT</td>\n",
       "      <td>2019-08-03 07:57:57</td>\n",
       "      <td>NaT</td>\n",
       "      <td>NaT</td>\n",
       "      <td>NaT</td>\n",
       "    </tr>\n",
       "    <tr>\n",
       "      <td>6309333568791314319</td>\n",
       "      <td>NaT</td>\n",
       "      <td>2019-08-06 18:04:28</td>\n",
       "      <td>NaT</td>\n",
       "      <td>NaT</td>\n",
       "      <td>NaT</td>\n",
       "    </tr>\n",
       "    <tr>\n",
       "      <td>9070105870042240910</td>\n",
       "      <td>2019-08-01 21:24:42</td>\n",
       "      <td>2019-08-01 21:24:39</td>\n",
       "      <td>2019-08-01 21:25:05</td>\n",
       "      <td>2019-08-01 21:24:41</td>\n",
       "      <td>NaT</td>\n",
       "    </tr>\n",
       "  </tbody>\n",
       "</table>\n",
       "</div>"
      ],
      "text/plain": [
       "event                  CartScreenAppear    MainScreenAppear  \\\n",
       "user_id                                                       \n",
       "4630185254631774491 2019-08-03 18:37:26 2019-08-03 18:37:24   \n",
       "1797441276328469589                 NaT 2019-08-03 09:05:58   \n",
       "5339257593707075412 2019-08-03 17:34:21 2019-08-03 17:30:59   \n",
       "7179732420350905289 2019-08-02 17:15:29 2019-08-01 09:48:06   \n",
       "1097963955552992526                 NaT 2019-08-03 07:57:57   \n",
       "6309333568791314319                 NaT 2019-08-06 18:04:28   \n",
       "9070105870042240910 2019-08-01 21:24:42 2019-08-01 21:24:39   \n",
       "\n",
       "event                OffersScreenAppear PaymentScreenSuccessful Tutorial  \n",
       "user_id                                                                   \n",
       "4630185254631774491 2019-08-03 18:37:30     2019-08-03 18:37:26      NaT  \n",
       "1797441276328469589                 NaT                     NaT      NaT  \n",
       "5339257593707075412 2019-08-03 17:33:51     2019-08-05 04:54:56      NaT  \n",
       "7179732420350905289 2019-08-01 09:48:13     2019-08-02 17:15:29      NaT  \n",
       "1097963955552992526                 NaT                     NaT      NaT  \n",
       "6309333568791314319                 NaT                     NaT      NaT  \n",
       "9070105870042240910 2019-08-01 21:25:05     2019-08-01 21:24:41      NaT  "
      ]
     },
     "execution_count": 21,
     "metadata": {},
     "output_type": "execute_result"
    }
   ],
   "source": [
    "#Последовательность этапов воронки по каждому пользователю:\n",
    "df_users = df.pivot_table( index='user_id', columns='event', values='datetime', aggfunc='min')\n",
    "df_users.sample(7)"
   ]
  },
  {
   "cell_type": "code",
   "execution_count": 22,
   "metadata": {},
   "outputs": [
    {
     "data": {
      "text/html": [
       "<div>\n",
       "<style scoped>\n",
       "    .dataframe tbody tr th:only-of-type {\n",
       "        vertical-align: middle;\n",
       "    }\n",
       "\n",
       "    .dataframe tbody tr th {\n",
       "        vertical-align: top;\n",
       "    }\n",
       "\n",
       "    .dataframe thead th {\n",
       "        text-align: right;\n",
       "    }\n",
       "</style>\n",
       "<table border=\"1\" class=\"dataframe\">\n",
       "  <thead>\n",
       "    <tr style=\"text-align: right;\">\n",
       "      <th></th>\n",
       "      <th>event</th>\n",
       "      <th>unique_users</th>\n",
       "      <th>total_conv_%</th>\n",
       "      <th>next_step_conv_%</th>\n",
       "    </tr>\n",
       "  </thead>\n",
       "  <tbody>\n",
       "    <tr>\n",
       "      <td>0</td>\n",
       "      <td>MainScreenAppear</td>\n",
       "      <td>6949</td>\n",
       "      <td>100.0</td>\n",
       "      <td>NaN</td>\n",
       "    </tr>\n",
       "    <tr>\n",
       "      <td>1</td>\n",
       "      <td>OffersScreenAppear</td>\n",
       "      <td>3825</td>\n",
       "      <td>55.0</td>\n",
       "      <td>55.0</td>\n",
       "    </tr>\n",
       "    <tr>\n",
       "      <td>2</td>\n",
       "      <td>CartScreenAppear</td>\n",
       "      <td>2698</td>\n",
       "      <td>38.8</td>\n",
       "      <td>70.5</td>\n",
       "    </tr>\n",
       "    <tr>\n",
       "      <td>3</td>\n",
       "      <td>PaymentScreenSuccessful</td>\n",
       "      <td>2571</td>\n",
       "      <td>37.0</td>\n",
       "      <td>95.3</td>\n",
       "    </tr>\n",
       "  </tbody>\n",
       "</table>\n",
       "</div>"
      ],
      "text/plain": [
       "                     event  unique_users  total_conv_%  next_step_conv_%\n",
       "0         MainScreenAppear          6949         100.0               NaN\n",
       "1       OffersScreenAppear          3825          55.0              55.0\n",
       "2         CartScreenAppear          2698          38.8              70.5\n",
       "3  PaymentScreenSuccessful          2571          37.0              95.3"
      ]
     },
     "execution_count": 22,
     "metadata": {},
     "output_type": "execute_result"
    }
   ],
   "source": [
    "# условия для формирования воронки\n",
    "# добавляю погрешность фиксации времени в 1 минуту\n",
    "step_1 = ~df_users['MainScreenAppear'].isna()\n",
    "step_2 = step_1 & (df_users['OffersScreenAppear'] > df_users['MainScreenAppear'] - pd.Timedelta(minutes=1))\n",
    "step_3 = step_2 & (df_users['CartScreenAppear'] > df_users['OffersScreenAppear'] - pd.Timedelta(minutes=1))\n",
    "step_4 = step_3 & (df_users['PaymentScreenSuccessful'] > df_users['CartScreenAppear'] - pd.Timedelta(minutes=1))\n",
    "\n",
    "funnel_columns = ['event', 'unique_users']\n",
    "funnel_data = [['MainScreenAppear', df_users[step_1].shape[0]],\n",
    "               ['OffersScreenAppear', df_users[step_2].shape[0]],\n",
    "               ['CartScreenAppear', df_users[step_3].shape[0]],\n",
    "               ['PaymentScreenSuccessful', df_users[step_4].shape[0]]]\n",
    "df_funnel = pd.DataFrame(data = funnel_data , columns = funnel_columns)\n",
    "df_funnel ['total_conv_%'] = (df_funnel ['unique_users'] / df_users[step_1].shape[0] * 100).round(1)\n",
    "df_funnel['next_step_conv_%'] = (df_funnel['unique_users'].pct_change() * 100 + 100).round(1)\n",
    "df_funnel"
   ]
  },
  {
   "cell_type": "markdown",
   "metadata": {},
   "source": [
    "**На каком шаге теряете больше всего пользователей? Какая доля пользователей доходит от первого события до оплаты?**"
   ]
  },
  {
   "cell_type": "markdown",
   "metadata": {},
   "source": [
    "Чуть больше половины пользователей доходит до второго шага воронки - просмотра предложения продукта. Именно на этом шаге отсеивается большинство потенциальных покупателей. На остальных шагах конверсия довольно высока.\n",
    "\n",
    "37% пользователей проходят весь путь воронки - от главного экрана до успешной оплаты."
   ]
  },
  {
   "cell_type": "markdown",
   "metadata": {},
   "source": [
    "На основании анализа воронки марекетологам порекомендовал бы обратить внимание на интерфейс основного экрана, чтобы повысить ковнверсию в шаг просмотра товаров."
   ]
  },
  {
   "cell_type": "markdown",
   "metadata": {},
   "source": [
    "## Шаг 5. Изучите результаты эксперимента"
   ]
  },
  {
   "cell_type": "markdown",
   "metadata": {},
   "source": [
    "**Сколько пользователей в каждой экспериментальной группе?**"
   ]
  },
  {
   "cell_type": "markdown",
   "metadata": {},
   "source": [
    "Одно из условий успешного теста - \"Попавший в одну из групп посетитель остаётся в этой группе до конца теста\". Проверю, выполняется ли это условие в нашем случае."
   ]
  },
  {
   "cell_type": "code",
   "execution_count": 23,
   "metadata": {},
   "outputs": [
    {
     "data": {
      "text/html": [
       "<div>\n",
       "<style scoped>\n",
       "    .dataframe tbody tr th:only-of-type {\n",
       "        vertical-align: middle;\n",
       "    }\n",
       "\n",
       "    .dataframe tbody tr th {\n",
       "        vertical-align: top;\n",
       "    }\n",
       "\n",
       "    .dataframe thead th {\n",
       "        text-align: right;\n",
       "    }\n",
       "</style>\n",
       "<table border=\"1\" class=\"dataframe\">\n",
       "  <thead>\n",
       "    <tr style=\"text-align: right;\">\n",
       "      <th></th>\n",
       "      <th>246</th>\n",
       "      <th>247</th>\n",
       "      <th>248</th>\n",
       "    </tr>\n",
       "  </thead>\n",
       "  <tbody>\n",
       "    <tr>\n",
       "      <td>246</td>\n",
       "      <td>2334.0</td>\n",
       "      <td>0.0</td>\n",
       "      <td>0.0</td>\n",
       "    </tr>\n",
       "    <tr>\n",
       "      <td>247</td>\n",
       "      <td>0.0</td>\n",
       "      <td>2355.0</td>\n",
       "      <td>0.0</td>\n",
       "    </tr>\n",
       "    <tr>\n",
       "      <td>248</td>\n",
       "      <td>0.0</td>\n",
       "      <td>0.0</td>\n",
       "      <td>2370.0</td>\n",
       "    </tr>\n",
       "  </tbody>\n",
       "</table>\n",
       "</div>"
      ],
      "text/plain": [
       "        246     247     248\n",
       "246  2334.0     0.0     0.0\n",
       "247     0.0  2355.0     0.0\n",
       "248     0.0     0.0  2370.0"
      ]
     },
     "execution_count": 23,
     "metadata": {},
     "output_type": "execute_result"
    }
   ],
   "source": [
    "group_matrix = pd.DataFrame(data = [], columns = [])\n",
    "for i in range(246, 249):\n",
    "    for k in range(246, 249):\n",
    "        group_matrix.loc[i,k] = len(set(df[df['group'] == i]['user_id']) & set(df[df['group'] == k]['user_id']))\n",
    "group_matrix"
   ]
  },
  {
   "cell_type": "markdown",
   "metadata": {},
   "source": [
    "Отнесение пользователя к определённой группе работало исправно.\n",
    "\n",
    "Теперь проверю, как соотносятся количества пользователей в группах."
   ]
  },
  {
   "cell_type": "code",
   "execution_count": 24,
   "metadata": {},
   "outputs": [
    {
     "data": {
      "text/html": [
       "<div>\n",
       "<style scoped>\n",
       "    .dataframe tbody tr th:only-of-type {\n",
       "        vertical-align: middle;\n",
       "    }\n",
       "\n",
       "    .dataframe tbody tr th {\n",
       "        vertical-align: top;\n",
       "    }\n",
       "\n",
       "    .dataframe thead th {\n",
       "        text-align: right;\n",
       "    }\n",
       "</style>\n",
       "<table border=\"1\" class=\"dataframe\">\n",
       "  <thead>\n",
       "    <tr style=\"text-align: right;\">\n",
       "      <th></th>\n",
       "      <th>users_qty</th>\n",
       "      <th>246</th>\n",
       "      <th>247</th>\n",
       "      <th>248</th>\n",
       "    </tr>\n",
       "    <tr>\n",
       "      <th>group</th>\n",
       "      <th></th>\n",
       "      <th></th>\n",
       "      <th></th>\n",
       "      <th></th>\n",
       "    </tr>\n",
       "  </thead>\n",
       "  <tbody>\n",
       "    <tr>\n",
       "      <td>246</td>\n",
       "      <td>2334</td>\n",
       "      <td>0.00</td>\n",
       "      <td>0.90</td>\n",
       "      <td>1.54</td>\n",
       "    </tr>\n",
       "    <tr>\n",
       "      <td>247</td>\n",
       "      <td>2355</td>\n",
       "      <td>0.89</td>\n",
       "      <td>0.00</td>\n",
       "      <td>0.64</td>\n",
       "    </tr>\n",
       "    <tr>\n",
       "      <td>248</td>\n",
       "      <td>2370</td>\n",
       "      <td>1.52</td>\n",
       "      <td>0.63</td>\n",
       "      <td>0.00</td>\n",
       "    </tr>\n",
       "  </tbody>\n",
       "</table>\n",
       "</div>"
      ],
      "text/plain": [
       "       users_qty   246   247   248\n",
       "group                             \n",
       "246         2334  0.00  0.90  1.54\n",
       "247         2355  0.89  0.00  0.64\n",
       "248         2370  1.52  0.63  0.00"
      ]
     },
     "execution_count": 24,
     "metadata": {},
     "output_type": "execute_result"
    }
   ],
   "source": [
    "# матрица относительных разниц количеств пользователей в группах в процентах\n",
    "group_dif = df.groupby('group').agg({'user_id': 'nunique'})\n",
    "group_dif.columns = ['users_qty']\n",
    "for i in group_dif.index:\n",
    "    for k in group_dif.index:\n",
    "        group_dif.loc[i,k] = round(abs(group_dif.loc[i,'users_qty'] - group_dif.loc[k,'users_qty']) / \\\n",
    "                                    group_dif.loc[i,'users_qty'] * 100, 2)\n",
    "group_dif"
   ]
  },
  {
   "cell_type": "markdown",
   "metadata": {},
   "source": [
    "Разница в численности групп 246 и 248 превышает 1%, что говорит о некорректности проведения A/B теста. Возможно, стоило бы продлить сбор данных для теста на несколько дней."
   ]
  },
  {
   "cell_type": "markdown",
   "metadata": {},
   "source": [
    "**Есть 2 контрольные группы для А/А-эксперимента, чтобы проверить корректность всех механизмов и расчётов. Проверьте, находят ли статистические критерии разницу между выборками 246 и 247.\n",
    "Выберите самое популярное событие. Посчитайте число пользователей, совершивших это событие в каждой из контрольных групп. Посчитайте долю пользователей, совершивших это событие. Проверьте, будет ли отличие между группами статистически достоверным. Проделайте то же самое для всех других событий (удобно обернуть проверку в отдельную функцию). Можно ли сказать, что разбиение на группы работает корректно?**"
   ]
  },
  {
   "cell_type": "code",
   "execution_count": 25,
   "metadata": {},
   "outputs": [
    {
     "data": {
      "text/html": [
       "<div>\n",
       "<style scoped>\n",
       "    .dataframe tbody tr th:only-of-type {\n",
       "        vertical-align: middle;\n",
       "    }\n",
       "\n",
       "    .dataframe tbody tr th {\n",
       "        vertical-align: top;\n",
       "    }\n",
       "\n",
       "    .dataframe thead th {\n",
       "        text-align: right;\n",
       "    }\n",
       "</style>\n",
       "<table border=\"1\" class=\"dataframe\">\n",
       "  <thead>\n",
       "    <tr style=\"text-align: right;\">\n",
       "      <th></th>\n",
       "      <th>user_id</th>\n",
       "      <th>group</th>\n",
       "    </tr>\n",
       "  </thead>\n",
       "  <tbody>\n",
       "    <tr>\n",
       "      <td>0</td>\n",
       "      <td>3737462046622621720</td>\n",
       "      <td>246</td>\n",
       "    </tr>\n",
       "    <tr>\n",
       "      <td>1</td>\n",
       "      <td>1433840883824088890</td>\n",
       "      <td>247</td>\n",
       "    </tr>\n",
       "    <tr>\n",
       "      <td>2</td>\n",
       "      <td>1182179323890311443</td>\n",
       "      <td>246</td>\n",
       "    </tr>\n",
       "    <tr>\n",
       "      <td>3</td>\n",
       "      <td>4613461174774205834</td>\n",
       "      <td>248</td>\n",
       "    </tr>\n",
       "    <tr>\n",
       "      <td>4</td>\n",
       "      <td>6121366368901703338</td>\n",
       "      <td>248</td>\n",
       "    </tr>\n",
       "  </tbody>\n",
       "</table>\n",
       "</div>"
      ],
      "text/plain": [
       "               user_id  group\n",
       "0  3737462046622621720    246\n",
       "1  1433840883824088890    247\n",
       "2  1182179323890311443    246\n",
       "3  4613461174774205834    248\n",
       "4  6121366368901703338    248"
      ]
     },
     "execution_count": 25,
     "metadata": {},
     "output_type": "execute_result"
    }
   ],
   "source": [
    "# построю датафрейм с воронкой в разбивке по группам\n",
    "# для этого сначала создам справочник user_id - group\n",
    "df_user_group = df[['user_id', 'group']].drop_duplicates().reset_index(drop = True)\n",
    "df_user_group.head(5)"
   ]
  },
  {
   "cell_type": "code",
   "execution_count": 26,
   "metadata": {},
   "outputs": [
    {
     "data": {
      "text/html": [
       "<div>\n",
       "<style scoped>\n",
       "    .dataframe tbody tr th:only-of-type {\n",
       "        vertical-align: middle;\n",
       "    }\n",
       "\n",
       "    .dataframe tbody tr th {\n",
       "        vertical-align: top;\n",
       "    }\n",
       "\n",
       "    .dataframe thead th {\n",
       "        text-align: right;\n",
       "    }\n",
       "</style>\n",
       "<table border=\"1\" class=\"dataframe\">\n",
       "  <thead>\n",
       "    <tr style=\"text-align: right;\">\n",
       "      <th></th>\n",
       "      <th>event</th>\n",
       "      <th>246</th>\n",
       "      <th>247</th>\n",
       "      <th>248</th>\n",
       "    </tr>\n",
       "  </thead>\n",
       "  <tbody>\n",
       "    <tr>\n",
       "      <td>0</td>\n",
       "      <td>MainScreenAppear</td>\n",
       "      <td>2301</td>\n",
       "      <td>2321</td>\n",
       "      <td>2327</td>\n",
       "    </tr>\n",
       "    <tr>\n",
       "      <td>1</td>\n",
       "      <td>OffersScreenAppear</td>\n",
       "      <td>1294</td>\n",
       "      <td>1254</td>\n",
       "      <td>1277</td>\n",
       "    </tr>\n",
       "    <tr>\n",
       "      <td>2</td>\n",
       "      <td>CartScreenAppear</td>\n",
       "      <td>916</td>\n",
       "      <td>895</td>\n",
       "      <td>887</td>\n",
       "    </tr>\n",
       "    <tr>\n",
       "      <td>3</td>\n",
       "      <td>PaymentScreenSuccessful</td>\n",
       "      <td>871</td>\n",
       "      <td>845</td>\n",
       "      <td>855</td>\n",
       "    </tr>\n",
       "  </tbody>\n",
       "</table>\n",
       "</div>"
      ],
      "text/plain": [
       "                     event   246   247   248\n",
       "0         MainScreenAppear  2301  2321  2327\n",
       "1       OffersScreenAppear  1294  1254  1277\n",
       "2         CartScreenAppear   916   895   887\n",
       "3  PaymentScreenSuccessful   871   845   855"
      ]
     },
     "execution_count": 26,
     "metadata": {},
     "output_type": "execute_result"
    }
   ],
   "source": [
    "# теперь добавлю группу для каждого пользователя в ранее созданный датафрейм\n",
    "df_users = df_users.merge(df_user_group, on = 'user_id')\n",
    "# аналогично тому, как делал в анализе воронки, но теперь с разбивкой на группы\n",
    "step_1 = ~df_users['MainScreenAppear'].isna()\n",
    "step_2 = step_1 & (df_users['OffersScreenAppear'] > df_users['MainScreenAppear'] - pd.Timedelta(minutes=1))\n",
    "step_3 = step_2 & (df_users['CartScreenAppear'] > df_users['OffersScreenAppear'] - pd.Timedelta(minutes=1))\n",
    "step_4 = step_3 & (df_users['PaymentScreenSuccessful'] > df_users['CartScreenAppear'] - pd.Timedelta(minutes=1))\n",
    "\n",
    "df_funnel_group = pd.DataFrame({'event': ['MainScreenAppear', 'OffersScreenAppear', 'CartScreenAppear', 'PaymentScreenSuccessful']})\n",
    "for i in range(246, 249):\n",
    "     df_funnel_group[i] = [df_users[step_1 & (df_users['group'] == i)].shape[0],\n",
    "                           df_users[step_2 & (df_users['group'] == i)].shape[0],\n",
    "                           df_users[step_3 & (df_users['group'] == i)].shape[0],\n",
    "                           df_users[step_4 & (df_users['group'] == i)].shape[0]]\n",
    "df_funnel_group"
   ]
  },
  {
   "cell_type": "code",
   "execution_count": 27,
   "metadata": {},
   "outputs": [
    {
     "data": {
      "text/html": [
       "<div>\n",
       "<style scoped>\n",
       "    .dataframe tbody tr th:only-of-type {\n",
       "        vertical-align: middle;\n",
       "    }\n",
       "\n",
       "    .dataframe tbody tr th {\n",
       "        vertical-align: top;\n",
       "    }\n",
       "\n",
       "    .dataframe thead th {\n",
       "        text-align: right;\n",
       "    }\n",
       "</style>\n",
       "<table border=\"1\" class=\"dataframe\">\n",
       "  <thead>\n",
       "    <tr style=\"text-align: right;\">\n",
       "      <th></th>\n",
       "      <th>event</th>\n",
       "      <th>246</th>\n",
       "      <th>247</th>\n",
       "      <th>248</th>\n",
       "      <th>A/A_p_value</th>\n",
       "    </tr>\n",
       "  </thead>\n",
       "  <tbody>\n",
       "    <tr>\n",
       "      <td>0</td>\n",
       "      <td>MainScreenAppear</td>\n",
       "      <td>2301</td>\n",
       "      <td>2321</td>\n",
       "      <td>2327</td>\n",
       "      <td>NaN</td>\n",
       "    </tr>\n",
       "    <tr>\n",
       "      <td>1</td>\n",
       "      <td>OffersScreenAppear</td>\n",
       "      <td>1294</td>\n",
       "      <td>1254</td>\n",
       "      <td>1277</td>\n",
       "      <td>0.131</td>\n",
       "    </tr>\n",
       "    <tr>\n",
       "      <td>2</td>\n",
       "      <td>CartScreenAppear</td>\n",
       "      <td>916</td>\n",
       "      <td>895</td>\n",
       "      <td>887</td>\n",
       "      <td>0.745</td>\n",
       "    </tr>\n",
       "    <tr>\n",
       "      <td>3</td>\n",
       "      <td>PaymentScreenSuccessful</td>\n",
       "      <td>871</td>\n",
       "      <td>845</td>\n",
       "      <td>855</td>\n",
       "      <td>0.520</td>\n",
       "    </tr>\n",
       "  </tbody>\n",
       "</table>\n",
       "</div>"
      ],
      "text/plain": [
       "                     event   246   247   248  A/A_p_value\n",
       "0         MainScreenAppear  2301  2321  2327          NaN\n",
       "1       OffersScreenAppear  1294  1254  1277        0.131\n",
       "2         CartScreenAppear   916   895   887        0.745\n",
       "3  PaymentScreenSuccessful   871   845   855        0.520"
      ]
     },
     "execution_count": 27,
     "metadata": {},
     "output_type": "execute_result"
    }
   ],
   "source": [
    "# напишу функцию для расчёта p-значения\n",
    "# на входе: шаг, для которого смотрим конверсию\n",
    "# и два списка групп, для которых проверяем гипотезу о равенстве конверсий\n",
    "def p_val (step, groups1, groups2):\n",
    "    # строю массивы successes и trials в зав-ти от входных данных\n",
    "    successes = np.array([0, 0])\n",
    "    trials = np.array([0, 0])\n",
    "    for group in groups1:\n",
    "        successes[0] = successes[0] + df_funnel_group.loc[step, group]\n",
    "        trials[0] = trials[0] + df_funnel_group.loc[step-1, group]\n",
    "    for group in groups2:\n",
    "        successes[1] = successes[1] + df_funnel_group.loc[step, group]\n",
    "        trials[1] = trials[1] + df_funnel_group.loc[step-1, group]\n",
    "    # применяю формулы\n",
    "    p1 = successes[0]/trials[0]\n",
    "    p2 = successes[1]/trials[1]\n",
    "    p_combined = (successes[0] + successes[1]) / (trials[0] + trials[1])\n",
    "    difference = p1 - p2\n",
    "    z_value = difference / mth.sqrt(p_combined * (1 - p_combined) * (1/trials[0] + 1/trials[1]))\n",
    "    distr = st.norm(0, 1) \n",
    "    p_value = (1 - distr.cdf(abs(z_value))) * 2\n",
    "    return p_value\n",
    "\n",
    "# применю эту функцию в цикле: шаги от 1 до 3 для групп 246 и 247 (A/A-тест)\n",
    "# критический уровень статистической значимости выберу равным .01\n",
    "\n",
    "for i in range(1,4):\n",
    "    df_funnel_group.loc[i,'A/A_p_value'] = round(p_val(i, [246], [247]), 3)\n",
    "df_funnel_group"
   ]
  },
  {
   "cell_type": "markdown",
   "metadata": {},
   "source": [
    "Нет оснований отвергнуть нулевую гипотезу, конверсии на каждом шаге воронки для групп 246 и 247 могут быть равными (в пределах выбранного уровня стат. значимости)."
   ]
  },
  {
   "cell_type": "markdown",
   "metadata": {},
   "source": [
    "**Аналогично поступите с группой с изменённым шрифтом. Сравните результаты с каждой из контрольных групп в отдельности по каждому событию. Сравните результаты с объединённой контрольной группой. Какие выводы из эксперимента можно сделать?**"
   ]
  },
  {
   "cell_type": "code",
   "execution_count": 28,
   "metadata": {},
   "outputs": [
    {
     "data": {
      "text/html": [
       "<div>\n",
       "<style scoped>\n",
       "    .dataframe tbody tr th:only-of-type {\n",
       "        vertical-align: middle;\n",
       "    }\n",
       "\n",
       "    .dataframe tbody tr th {\n",
       "        vertical-align: top;\n",
       "    }\n",
       "\n",
       "    .dataframe thead th {\n",
       "        text-align: right;\n",
       "    }\n",
       "</style>\n",
       "<table border=\"1\" class=\"dataframe\">\n",
       "  <thead>\n",
       "    <tr style=\"text-align: right;\">\n",
       "      <th></th>\n",
       "      <th>event</th>\n",
       "      <th>246</th>\n",
       "      <th>247</th>\n",
       "      <th>248</th>\n",
       "      <th>A/A_p_value</th>\n",
       "      <th>A1/B_p_value</th>\n",
       "      <th>A2/B_p_value</th>\n",
       "      <th>A/B_p_value</th>\n",
       "      <th>A_total_conv_%</th>\n",
       "      <th>B_total_conv_%</th>\n",
       "    </tr>\n",
       "  </thead>\n",
       "  <tbody>\n",
       "    <tr>\n",
       "      <td>0</td>\n",
       "      <td>MainScreenAppear</td>\n",
       "      <td>2301</td>\n",
       "      <td>2321</td>\n",
       "      <td>2327</td>\n",
       "      <td>NaN</td>\n",
       "      <td>NaN</td>\n",
       "      <td>NaN</td>\n",
       "      <td>NaN</td>\n",
       "      <td>NaN</td>\n",
       "      <td>NaN</td>\n",
       "    </tr>\n",
       "    <tr>\n",
       "      <td>1</td>\n",
       "      <td>OffersScreenAppear</td>\n",
       "      <td>1294</td>\n",
       "      <td>1254</td>\n",
       "      <td>1277</td>\n",
       "      <td>0.131</td>\n",
       "      <td>0.352</td>\n",
       "      <td>0.561</td>\n",
       "      <td>0.843</td>\n",
       "      <td>55.1</td>\n",
       "      <td>54.9</td>\n",
       "    </tr>\n",
       "    <tr>\n",
       "      <td>2</td>\n",
       "      <td>CartScreenAppear</td>\n",
       "      <td>916</td>\n",
       "      <td>895</td>\n",
       "      <td>887</td>\n",
       "      <td>0.745</td>\n",
       "      <td>0.462</td>\n",
       "      <td>0.292</td>\n",
       "      <td>0.301</td>\n",
       "      <td>39.2</td>\n",
       "      <td>38.1</td>\n",
       "    </tr>\n",
       "    <tr>\n",
       "      <td>3</td>\n",
       "      <td>PaymentScreenSuccessful</td>\n",
       "      <td>871</td>\n",
       "      <td>845</td>\n",
       "      <td>855</td>\n",
       "      <td>0.520</td>\n",
       "      <td>0.171</td>\n",
       "      <td>0.046</td>\n",
       "      <td>0.059</td>\n",
       "      <td>37.1</td>\n",
       "      <td>36.7</td>\n",
       "    </tr>\n",
       "  </tbody>\n",
       "</table>\n",
       "</div>"
      ],
      "text/plain": [
       "                     event   246   247   248  A/A_p_value  A1/B_p_value  \\\n",
       "0         MainScreenAppear  2301  2321  2327          NaN           NaN   \n",
       "1       OffersScreenAppear  1294  1254  1277        0.131         0.352   \n",
       "2         CartScreenAppear   916   895   887        0.745         0.462   \n",
       "3  PaymentScreenSuccessful   871   845   855        0.520         0.171   \n",
       "\n",
       "   A2/B_p_value  A/B_p_value  A_total_conv_%  B_total_conv_%  \n",
       "0           NaN          NaN             NaN             NaN  \n",
       "1         0.561        0.843            55.1            54.9  \n",
       "2         0.292        0.301            39.2            38.1  \n",
       "3         0.046        0.059            37.1            36.7  "
      ]
     },
     "execution_count": 28,
     "metadata": {},
     "output_type": "execute_result"
    }
   ],
   "source": [
    "for i in range(1,4):\n",
    "    df_funnel_group.loc[i,'A1/B_p_value'] = round(p_val(i, [246], [248]), 3)\n",
    "    df_funnel_group.loc[i,'A2/B_p_value'] = round(p_val(i, [247], [248]), 3)\n",
    "    df_funnel_group.loc[i,'A/B_p_value'] = round(p_val(i, [246, 247], [248]), 3)\n",
    "    df_funnel_group.loc[i,'A_total_conv_%'] = round((df_funnel_group.loc[i,246] + df_funnel_group.loc[i,247]) / \\\n",
    "                                              (df_funnel_group.loc[0,246] + df_funnel_group.loc[0,247]) * 100, 1)\n",
    "    df_funnel_group.loc[i,'B_total_conv_%'] = round(df_funnel_group.loc[i,248] / df_funnel_group.loc[0,248] * 100, 1)\n",
    "df_funnel_group"
   ]
  },
  {
   "cell_type": "markdown",
   "metadata": {},
   "source": [
    "Не получилось отвергнуть нулевую гипотезу, нет оснований считать конверсии в группе B и группах A разными."
   ]
  },
  {
   "cell_type": "markdown",
   "metadata": {},
   "source": [
    "**Какой уровень значимости вы выбрали при проверке статистических гипотез выше? Посчитайте, сколько проверок статистических гипотез вы сделали. При уровне значимости 0.1 каждый десятый раз можно получать ложный результат. Какой уровень значимости стоит применить? Если вы хотите изменить его, проделайте предыдущие пункты и проверьте свои выводы.**"
   ]
  },
  {
   "cell_type": "markdown",
   "metadata": {},
   "source": [
    "Проверено 12 стат. гипотез, лишь в одной из них p_value приблизился к 5% (в остальных случаях он гораздо выше) - на шаге от корзины до оплаты (конверсия группы B при этом выше). Но итоговая конверсия группы B по этой выборке даже ниже итоговой конверсии по группам A."
   ]
  },
  {
   "cell_type": "markdown",
   "metadata": {},
   "source": [
    "## Итоги и выводы"
   ]
  },
  {
   "cell_type": "markdown",
   "metadata": {},
   "source": [
    "* Исходные данные за июль и за август сильно разнятся по количеству событий -> нужно уточнить, как поступают данные, нет ли системной ошибки.\n",
    "* Большая часть пользователь не доходит от главного экрана до просмотра продуктов и предложений -> марекетологам порекомендую обратить внимание на интерфейс основного экрана, чтобы повысить ковнверсию в шаг просмотра товаров.\n",
    "* Разница в численности групп 246 и 248 превышает 1%, что говорит о некорректности проведения A/B теста -> предлагаю продлить сбор данных для теста на несколько дней.\n",
    "* По имеющимся данным влияние шрифта на поведение пользователей не подтвердилось -> внесение изменений не оправдано (но есть вероятность, что продление теста приведёт к другому выводу). "
   ]
  }
 ],
 "metadata": {
  "kernelspec": {
   "display_name": "Python 3",
   "language": "python",
   "name": "python3"
  },
  "language_info": {
   "codemirror_mode": {
    "name": "ipython",
    "version": 3
   },
   "file_extension": ".py",
   "mimetype": "text/x-python",
   "name": "python",
   "nbconvert_exporter": "python",
   "pygments_lexer": "ipython3",
   "version": "3.7.3"
  }
 },
 "nbformat": 4,
 "nbformat_minor": 2
}
